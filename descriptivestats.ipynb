{
 "cells": [
  {
   "cell_type": "code",
   "execution_count": null,
   "id": "3f6ba9c7",
   "metadata": {},
   "outputs": [
    {
     "name": "stdout",
     "output_type": "stream",
     "text": [
      "Summary statistics grouped by AgeGroup:\n",
      "             mean   median    min    max          std\n",
      "AgeGroup                                             \n",
      "Middle    61000.0  61000.0  60000  62000  1414.213562\n",
      "Senior    51000.0  51000.0  50000  52000  1414.213562\n",
      "Young     42500.0  42500.0  40000  45000  3535.533906\n",
      "\n",
      "Income values list grouped by AgeGroup:\n",
      "AgeGroup\n",
      "Middle    [60000, 62000]\n",
      "Senior    [50000, 52000]\n",
      "Young     [40000, 45000]\n",
      "Name: Income, dtype: object\n"
     ]
    }
   ],
   "source": [
    "import pandas as pd\n",
    "\n",
    "# Load the dataset\n",
    "df = pd.read_csv('data.csv')\n",
    "\n",
    "# Group by the categorical variable 'AgeGroup' and calculate summary statistics for 'Income'\n",
    "grouped = df.groupby('AgeGroup')['Income'].agg(['mean', 'median', 'min', 'max', 'std'])\n",
    "\n",
    "# Print the grouped summary statistics\n",
    "print(\"Summary statistics grouped by AgeGroup:\")\n",
    "print(grouped)\n",
    "\n",
    "# Create a list of Income values for each AgeGroup\n",
    "income_list = df.groupby('AgeGroup')['Income'].apply(list)\n",
    "\n",
    "# Print the list of Income values by AgeGroup\n",
    "print(\"\\nIncome values list grouped by AgeGroup:\")\n",
    "print(income_list)\n",
    "\n"
   ]
  },
  {
   "cell_type": "code",
   "execution_count": 6,
   "id": "ca5e9f93",
   "metadata": {},
   "outputs": [
    {
     "name": "stdout",
     "output_type": "stream",
     "text": [
      "Statistics for Iris-setosa:\n",
      "       sepal_length  sepal_width  petal_length  petal_width\n",
      "count           0.0          0.0           0.0          0.0\n",
      "mean            NaN          NaN           NaN          NaN\n",
      "std             NaN          NaN           NaN          NaN\n",
      "min             NaN          NaN           NaN          NaN\n",
      "25%             NaN          NaN           NaN          NaN\n",
      "50%             NaN          NaN           NaN          NaN\n",
      "75%             NaN          NaN           NaN          NaN\n",
      "max             NaN          NaN           NaN          NaN\n",
      "\n",
      "Statistics for Iris-versicolor:\n",
      "       sepal_length  sepal_width  petal_length  petal_width\n",
      "count           0.0          0.0           0.0          0.0\n",
      "mean            NaN          NaN           NaN          NaN\n",
      "std             NaN          NaN           NaN          NaN\n",
      "min             NaN          NaN           NaN          NaN\n",
      "25%             NaN          NaN           NaN          NaN\n",
      "50%             NaN          NaN           NaN          NaN\n",
      "75%             NaN          NaN           NaN          NaN\n",
      "max             NaN          NaN           NaN          NaN\n",
      "\n",
      "Statistics for Iris-virginica:\n",
      "       sepal_length  sepal_width  petal_length  petal_width\n",
      "count           0.0          0.0           0.0          0.0\n",
      "mean            NaN          NaN           NaN          NaN\n",
      "std             NaN          NaN           NaN          NaN\n",
      "min             NaN          NaN           NaN          NaN\n",
      "25%             NaN          NaN           NaN          NaN\n",
      "50%             NaN          NaN           NaN          NaN\n",
      "75%             NaN          NaN           NaN          NaN\n",
      "max             NaN          NaN           NaN          NaN\n"
     ]
    }
   ],
   "source": [
    "import pandas as pd\n",
    "\n",
    "# Load the Iris dataset\n",
    "df = pd.read_csv('iris.csv')\n",
    "\n",
    "\n",
    "\n",
    "# Filter by each species\n",
    "setosa = df[df['species'] == 'Iris-setosa']\n",
    "versicolor = df[df['species'] == 'Iris-versicolor']\n",
    "virginica = df[df['species'] == 'Iris-virginica']\n",
    "\n",
    "# Display basic statistics for Iris-setosa\n",
    "print(\"Statistics for Iris-setosa:\")\n",
    "print(setosa.describe())\n",
    "\n",
    "# Display basic statistics for Iris-versicolor\n",
    "print(\"\\nStatistics for Iris-versicolor:\")\n",
    "print(versicolor.describe())\n",
    "\n",
    "# Display basic statistics for Iris-virginica\n",
    "print(\"\\nStatistics for Iris-virginica:\")\n",
    "print(virginica.describe())\n"
   ]
  }
 ],
 "metadata": {
  "kernelspec": {
   "display_name": ".venv",
   "language": "python",
   "name": "python3"
  },
  "language_info": {
   "codemirror_mode": {
    "name": "ipython",
    "version": 3
   },
   "file_extension": ".py",
   "mimetype": "text/x-python",
   "name": "python",
   "nbconvert_exporter": "python",
   "pygments_lexer": "ipython3",
   "version": "3.11.2"
  }
 },
 "nbformat": 4,
 "nbformat_minor": 5
}
