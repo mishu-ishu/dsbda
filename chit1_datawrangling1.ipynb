{
 "cells": [
  {
   "cell_type": "code",
   "execution_count": 1,
   "id": "461fc851",
   "metadata": {},
   "outputs": [
    {
     "name": "stdout",
     "output_type": "stream",
     "text": [
      "Requirement already satisfied: pandas in c:\\users\\paras\\onedrive\\desktop\\dsbda\\.venv\\lib\\site-packages (2.2.3)\n",
      "Requirement already satisfied: numpy in c:\\users\\paras\\onedrive\\desktop\\dsbda\\.venv\\lib\\site-packages (2.2.5)\n",
      "Requirement already satisfied: scikit-learn in c:\\users\\paras\\onedrive\\desktop\\dsbda\\.venv\\lib\\site-packages (1.6.1)\n",
      "Requirement already satisfied: python-dateutil>=2.8.2 in c:\\users\\paras\\onedrive\\desktop\\dsbda\\.venv\\lib\\site-packages (from pandas) (2.9.0.post0)\n",
      "Requirement already satisfied: pytz>=2020.1 in c:\\users\\paras\\onedrive\\desktop\\dsbda\\.venv\\lib\\site-packages (from pandas) (2025.2)\n",
      "Requirement already satisfied: tzdata>=2022.7 in c:\\users\\paras\\onedrive\\desktop\\dsbda\\.venv\\lib\\site-packages (from pandas) (2025.2)\n",
      "Requirement already satisfied: scipy>=1.6.0 in c:\\users\\paras\\onedrive\\desktop\\dsbda\\.venv\\lib\\site-packages (from scikit-learn) (1.15.2)\n",
      "Requirement already satisfied: joblib>=1.2.0 in c:\\users\\paras\\onedrive\\desktop\\dsbda\\.venv\\lib\\site-packages (from scikit-learn) (1.4.2)\n",
      "Requirement already satisfied: threadpoolctl>=3.1.0 in c:\\users\\paras\\onedrive\\desktop\\dsbda\\.venv\\lib\\site-packages (from scikit-learn) (3.6.0)\n",
      "Requirement already satisfied: six>=1.5 in c:\\users\\paras\\onedrive\\desktop\\dsbda\\.venv\\lib\\site-packages (from python-dateutil>=2.8.2->pandas) (1.17.0)\n",
      "Note: you may need to restart the kernel to use updated packages.\n"
     ]
    }
   ],
   "source": [
    "pip install pandas numpy scikit-learn\n"
   ]
  },
  {
   "cell_type": "code",
   "execution_count": 2,
   "id": "dab14ede",
   "metadata": {},
   "outputs": [
    {
     "name": "stdout",
     "output_type": "stream",
     "text": [
      "Missing Values:\n",
      " SepalLength    0\n",
      "SepalWidth     0\n",
      "PetalLength    0\n",
      "PetalWidth     0\n",
      "Species        0\n",
      "dtype: int64\n",
      "\n",
      "Summary Statistics:\n",
      "        SepalLength  SepalWidth  PetalLength  PetalWidth\n",
      "count   150.000000  150.000000   150.000000  150.000000\n",
      "mean      5.843333    3.054000     3.758667    1.198667\n",
      "std       0.828066    0.433594     1.764420    0.763161\n",
      "min       4.300000    2.000000     1.000000    0.100000\n",
      "25%       5.100000    2.800000     1.600000    0.300000\n",
      "50%       5.800000    3.000000     4.350000    1.300000\n",
      "75%       6.400000    3.300000     5.100000    1.800000\n",
      "max       7.900000    4.400000     6.900000    2.500000\n",
      "\n",
      "Variable Information:\n",
      " SepalLength    float64\n",
      "SepalWidth     float64\n",
      "PetalLength    float64\n",
      "PetalWidth     float64\n",
      "Species         object\n",
      "dtype: object\n",
      "\n",
      "Shape of the DataFrame: (150, 5)\n",
      "\n",
      "Normalized Data:\n",
      "    SepalLength  SepalWidth  PetalLength  PetalWidth      Species\n",
      "0     0.222222    0.625000     0.067797    0.041667  Iris-setosa\n",
      "1     0.166667    0.416667     0.067797    0.041667  Iris-setosa\n",
      "2     0.111111    0.500000     0.050847    0.041667  Iris-setosa\n",
      "3     0.083333    0.458333     0.084746    0.041667  Iris-setosa\n",
      "4     0.194444    0.666667     0.067797    0.041667  Iris-setosa\n",
      "\n",
      "Data with Categorical Variable Converted:\n",
      "    SepalLength  SepalWidth  PetalLength  PetalWidth  Species\n",
      "0     0.222222    0.625000     0.067797    0.041667        0\n",
      "1     0.166667    0.416667     0.067797    0.041667        0\n",
      "2     0.111111    0.500000     0.050847    0.041667        0\n",
      "3     0.083333    0.458333     0.084746    0.041667        0\n",
      "4     0.194444    0.666667     0.067797    0.041667        0\n"
     ]
    }
   ],
   "source": [
    "# 1. Import libraries\n",
    "import pandas as pd\n",
    "import numpy as np\n",
    "from sklearn.preprocessing import MinMaxScaler\n",
    "\n",
    "# 2. Load the dataset\n",
    "url = \"https://raw.githubusercontent.com/jbrownlee/Datasets/master/iris.csv\"  # Example URL to dataset\n",
    "df = pd.read_csv(url, header=None)\n",
    "df.columns = ['SepalLength', 'SepalWidth', 'PetalLength', 'PetalWidth', 'Species']\n",
    "\n",
    "# 3. Data Preprocessing: Missing values and summary statistics\n",
    "missing_values = df.isnull().sum()  # Check missing values\n",
    "statistics = df.describe()  # Summary statistics\n",
    "variable_info = df.dtypes  # Data types of columns\n",
    "data_shape = df.shape  # Shape of the data\n",
    "\n",
    "print(\"Missing Values:\\n\", missing_values)\n",
    "print(\"\\nSummary Statistics:\\n\", statistics)\n",
    "print(\"\\nVariable Information:\\n\", variable_info)\n",
    "print(\"\\nShape of the DataFrame:\", data_shape)\n",
    "\n",
    "# 4. Data Formatting and Normalization\n",
    "df['Species'] = df['Species'].astype('category')  # Convert 'Species' to categorical\n",
    "\n",
    "scaler = MinMaxScaler()\n",
    "numerical_columns = ['SepalLength', 'SepalWidth', 'PetalLength', 'PetalWidth']\n",
    "df[numerical_columns] = scaler.fit_transform(df[numerical_columns])\n",
    "\n",
    "print(\"\\nNormalized Data:\\n\", df.head())\n",
    "\n",
    "# 5. Convert categorical variables to quantitative\n",
    "df['Species'] = df['Species'].cat.codes  # Label encoding\n",
    "print(\"\\nData with Categorical Variable Converted:\\n\", df.head())\n",
    "\n",
    "\n",
    "\n"
   ]
  }
 ],
 "metadata": {
  "kernelspec": {
   "display_name": ".venv",
   "language": "python",
   "name": "python3"
  },
  "language_info": {
   "codemirror_mode": {
    "name": "ipython",
    "version": 3
   },
   "file_extension": ".py",
   "mimetype": "text/x-python",
   "name": "python",
   "nbconvert_exporter": "python",
   "pygments_lexer": "ipython3",
   "version": "3.11.2"
  }
 },
 "nbformat": 4,
 "nbformat_minor": 5
}
